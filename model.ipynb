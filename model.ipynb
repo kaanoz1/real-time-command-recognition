{
 "cells": [
  {
   "metadata": {},
   "cell_type": "markdown",
   "source": [
    "# Project Purpose:\n",
    "\n",
    "**The goal of this project is to develop a deep learning model capable of recognizing specific voice commands (“yes” or “no”) during an ordinary conversation. The model will identify these commands with a certain level of confidence and display the results in the console.**\n",
    "\n",
    "\n",
    "## About dataset:\n",
    "\n",
    "All dataset files are located in the /data folder. The dataset consists of three categories:\n",
    "- All recordings of the word “yes” are stored in /data/yes_data/\n",
    "- All recordings of the word “no” are stored in /data/no_data/.\n",
    "- Any other sounds, including daily conversation fragments and background noise, fall under the \"unknown\" category. Since these recordings may be longer than one second, they must be split into 1-second segments before training. The model will then be trained to recognize these segments as \"unknown\"."
   ],
   "id": "829893816ed701f6"
  },
  {
   "metadata": {},
   "cell_type": "markdown",
   "source": "### Importing Modules and types:",
   "id": "eb0badf701962f19"
  },
  {
   "metadata": {
    "ExecuteTime": {
     "end_time": "2025-03-04T18:27:22.243808Z",
     "start_time": "2025-03-04T18:27:22.222469Z"
    }
   },
   "cell_type": "code",
   "source": [
    "### Packages:\n",
    "import os\n",
    "from pydub import AudioSegment\n",
    "import tensorflow as tf\n",
    "import gc\n",
    "import numpy as np\n",
    "from tensorflow.keras.layers import Rescaling, Normalization, Resizing\n",
    "from tensorflow.keras import layers, models\n",
    "\n",
    "import glob\n",
    "import librosa\n",
    "import soundfile as sf\n",
    "from collections import Counter\n",
    "import matplotlib.pyplot as plt\n",
    "import seaborn as sns\n",
    "from sklearn.metrics import accuracy_score, confusion_matrix, classification_report\n",
    "from sklearn.preprocessing import label_binarize\n",
    "from scipy.special import softmax\n",
    "from sklearn.metrics import roc_curve, auc, precision_recall_curve\n",
    "\n",
    "### Typings:\n",
    "from typing import Final, List, Optional\n",
    "from tensorflow import Tensor\n",
    "from numpy import ndarray\n",
    "from tensorflow.python.types.data import DatasetV2\n",
    "\n"
   ],
   "id": "2cc7736e6a5ae89",
   "outputs": [],
   "execution_count": 32
  },
  {
   "metadata": {},
   "cell_type": "markdown",
   "source": "### Variables and functions initialization:",
   "id": "2c5c23a820a2b2d9"
  },
  {
   "metadata": {
    "ExecuteTime": {
     "end_time": "2025-03-04T18:27:22.275684Z",
     "start_time": "2025-03-04T18:27:22.254227Z"
    }
   },
   "cell_type": "code",
   "source": [
    "\n",
    "\n",
    "CATEGORIES: Final[List[str]] = [\"yes\", \"no\", \"unknown\"]\n",
    "DATASET_FILE_EXTENSIONS: Final[List[str]] = [\".wav\", \".mp3\"]\n",
    "PATH_FOR_YES_DATASET: Final[str] = \"data/yes_data\"\n",
    "PATH_FOR_NO_DATASET: Final[str] = \"data/no_data\"\n",
    "PATH_FOR_UNPROCESSED_UNKNOWN_DATASET: Final[str] = \"data/unknown_data_unprocessed\"\n",
    "PATH_FOR_PROCESSED_UNKNOWN_DATASET: Final[str] = \"data/unknown_data_processed\"\n",
    "AUDIO_CLIP_LENGTH_MS: Final[int] = 1000\n",
    "\n",
    "\n",
    "def check_audio_file_is_valid(file_path: str) -> (bool, Optional[AudioSegment]):\n",
    "    is_file_exists: bool = os.path.exists(file_path) or os.path.isfile(file_path)\n",
    "\n",
    "    if not is_file_exists:\n",
    "        raise FileNotFoundError(f\"Invalid file path, not found: {file_path}\")\n",
    "\n",
    "    file_extension = os.path.splitext(file_path)[1].lower()\n",
    "    if file_extension not in DATASET_FILE_EXTENSIONS:\n",
    "        raise ValueError(f\"Invalid file extension: {file_path}. Expected: {DATASET_FILE_EXTENSIONS}\")\n",
    "\n",
    "    audio: AudioSegment\n",
    "\n",
    "    if file_extension == \".wav\":\n",
    "        audio = AudioSegment.from_wav(file_path)\n",
    "    elif file_extension == \".mp3\":\n",
    "        audio = AudioSegment.from_mp3(file_path)\n",
    "\n",
    "    file_name: str = os.path.basename(file_path)\n",
    "    duration: int = len(audio)\n",
    "\n",
    "    if duration < AUDIO_CLIP_LENGTH_MS:\n",
    "        raise ValueError(f\"Invalid audio file duration: {duration} ms, for file {file_name}\")\n",
    "\n",
    "    return True, audio\n",
    "\n",
    "\n",
    "def check_label_is_valid(label: str) -> bool:\n",
    "    return label in CATEGORIES\n",
    "\n",
    "\n",
    "def extract_label(file_path_tensor: Tensor) -> str:\n",
    "    file_path = file_path_tensor.numpy().decode(\"utf-8\")\n",
    "\n",
    "    if not isinstance(file_path, str):\n",
    "        raise ValueError(f\"Invalid file path format: {file_path}\")\n",
    "\n",
    "    is_valid_file, _ = check_audio_file_is_valid(file_path)\n",
    "\n",
    "    if not is_valid_file:\n",
    "        raise ValueError(f\"Invalid file path to extract label: {file_path}\")\n",
    "\n",
    "    full_dir_name = os.path.dirname(file_path)\n",
    "    dir_name = os.path.basename(full_dir_name)\n",
    "    label = dir_name.split(\"_\")[0]\n",
    "\n",
    "    if not check_label_is_valid(label):\n",
    "        raise ValueError(f\"Invalid label: {label} for file path: {file_path}\")\n",
    "\n",
    "    return label\n",
    "\n",
    "\n",
    "def process_unprocessed_unknown_data(unprocessed_dataset_path: str, processed_data_set_path: str) -> None:\n",
    "    counter: int = 0\n",
    "    splitter_counter: int = 0\n",
    "    found_file_counter: int = 0\n",
    "    TARGET_SAMPLE_RATE: Final[int] = 16000\n",
    "\n",
    "    for unprocessed_unknown_file_name in os.listdir(unprocessed_dataset_path):\n",
    "        file_path = os.path.join(unprocessed_dataset_path, unprocessed_unknown_file_name)\n",
    "\n",
    "        base_name = os.path.splitext(unprocessed_unknown_file_name)[0]\n",
    "        processed_files = glob.glob(os.path.join(processed_data_set_path, f\"{base_name}_part*.wav\"))\n",
    "\n",
    "        if processed_files:\n",
    "            found_file_counter += 1\n",
    "            print(f\"Skipping {unprocessed_unknown_file_name}, already processed ({len(processed_files)} parts found).\")\n",
    "            continue\n",
    "\n",
    "        is_valid_file, audio = check_audio_file_is_valid(file_path)\n",
    "\n",
    "        if not is_valid_file or audio is None:\n",
    "            raise FileNotFoundError(f\"Invalid file for path: {unprocessed_unknown_file_name}\")\n",
    "\n",
    "        y, sr = librosa.load(file_path, sr=None)\n",
    "\n",
    "        if sr != TARGET_SAMPLE_RATE:\n",
    "            print(f\"Resampling {unprocessed_unknown_file_name} from {sr} Hz to {TARGET_SAMPLE_RATE} Hz\")\n",
    "            y = librosa.resample(y, orig_sr=sr, target_sr=TARGET_SAMPLE_RATE)\n",
    "\n",
    "        duration_ms: int = int((len(y) / TARGET_SAMPLE_RATE) * 1000)\n",
    "\n",
    "        for i, start in enumerate(range(0, duration_ms, AUDIO_CLIP_LENGTH_MS)):\n",
    "            segment_start_sample = int((start / 1000) * TARGET_SAMPLE_RATE)\n",
    "            segment_end_sample = segment_start_sample + int((AUDIO_CLIP_LENGTH_MS / 1000) * TARGET_SAMPLE_RATE)\n",
    "\n",
    "            segment = y[segment_start_sample:segment_end_sample]\n",
    "            if len(segment) < int((AUDIO_CLIP_LENGTH_MS / 1000) * TARGET_SAMPLE_RATE):\n",
    "                continue\n",
    "\n",
    "            new_file_name: str = f\"{base_name}_part{i}.wav\"\n",
    "            new_file_path: str = os.path.join(processed_data_set_path, new_file_name)\n",
    "\n",
    "            sf.write(new_file_path, segment, TARGET_SAMPLE_RATE)\n",
    "\n",
    "            print(f\"Saved: {new_file_name}.\")\n",
    "            splitter_counter += 1\n",
    "\n",
    "        counter += 1\n",
    "\n",
    "    print(\n",
    "        f\"Processed {counter} new files, split into {splitter_counter} parts. Found {found_file_counter} already processed files.\")\n",
    "\n",
    "\n",
    "def path_to_tensor_label_map(file_path: Tensor) -> (Tensor, Tensor):\n",
    "    label: Tensor = tf.py_function(func=extract_label, inp=[file_path], Tout=tf.string)\n",
    "\n",
    "    label: Tensor = tf.reshape(label, [])\n",
    "\n",
    "    file_tensor: Tensor = tf.io.read_file(file_path)\n",
    "    audio_tensor, _ = tf.audio.decode_wav(file_tensor, desired_channels=1, desired_samples=16000)\n",
    "    audio_tensor: Tensor = tf.squeeze(audio_tensor, axis=-1)\n",
    "\n",
    "    return audio_tensor, label\n",
    "\n",
    "\n",
    "def stft(waveform_par: Tensor) -> Tensor:\n",
    "    spectrogram_var = tf.signal.stft(waveform_par, frame_length=256, frame_step=64, fft_length=256)\n",
    "    spectrogram_var: Tensor = tf.abs(spectrogram_var)\n",
    "    return spectrogram_var\n",
    "\n",
    "\n",
    "def waveforms_to_spectrogram(waveform_par: Tensor, label_par: Tensor) -> (Tensor, Tensor):\n",
    "    spectrogram: Tensor = stft(waveform_par)\n",
    "    spectrogram_reshaped: Tensor = tf.reshape(spectrogram, (129, 247))\n",
    "    spectrogram_expanded: Tensor = tf.expand_dims(spectrogram_reshaped, axis=0)\n",
    "    label_ind: Tensor = tf.math.argmax(label_par == CATEGORIES)\n",
    "\n",
    "    return spectrogram_expanded, label_ind\n",
    "\n",
    "\n",
    "def convert_waveform_to_spectrogram(dataset_waveform: DatasetV2) -> DatasetV2:\n",
    "    return dataset_waveform.map(waveforms_to_spectrogram)"
   ],
   "id": "5c8e8bf4bda21139",
   "outputs": [],
   "execution_count": 33
  },
  {
   "metadata": {
    "ExecuteTime": {
     "end_time": "2025-03-04T18:27:22.314022Z",
     "start_time": "2025-03-04T18:27:22.309131Z"
    }
   },
   "cell_type": "code",
   "source": "## process_unprocessed_unknown_data(PATH_FOR_UNPROCESSED_UNKNOWN_DATASET, PATH_FOR_PROCESSED_UNKNOWN_DATASET)",
   "id": "98288828bb156710",
   "outputs": [],
   "execution_count": 34
  },
  {
   "metadata": {},
   "cell_type": "markdown",
   "source": [
    "### Path collection, shuffle and splitting data:\n",
    "\n"
   ],
   "id": "f00ced99b0fa29d1"
  },
  {
   "metadata": {
    "ExecuteTime": {
     "end_time": "2025-03-04T18:27:49.321818Z",
     "start_time": "2025-03-04T18:27:22.351217Z"
    }
   },
   "cell_type": "code",
   "source": [
    "\n",
    "YES_LABEL_PATHS: Final[List[str]] = tf.io.gfile.glob(PATH_FOR_YES_DATASET + \"/*\")\n",
    "NO_LABEL_PATHS: Final[List[str]] = tf.io.gfile.glob(PATH_FOR_NO_DATASET + \"/*\")\n",
    "UNKNOWN_LABEL_PATHS: Final[List[str]] = tf.io.gfile.glob(PATH_FOR_PROCESSED_UNKNOWN_DATASET + \"/*\")\n",
    "\n",
    "YES_LABEL_PATHS_SHUFFLED: Final[List[str]] = tf.random.shuffle(YES_LABEL_PATHS)\n",
    "NO_LABEL_PATHS_SHUFFLED: Final[List[str]] = tf.random.shuffle(NO_LABEL_PATHS)\n",
    "UNKNOWN_LABEL_PATHS_SHUFFLED: Final[List[str]] = tf.random.shuffle(UNKNOWN_LABEL_PATHS)\n",
    "\n",
    "YES_LABEL_DATASET_PIPELINE: DatasetV2 = tf.data.Dataset.from_tensor_slices(YES_LABEL_PATHS_SHUFFLED)\n",
    "NO_LABEL_DATASET_PIPELINE: DatasetV2 = tf.data.Dataset.from_tensor_slices(NO_LABEL_PATHS_SHUFFLED)\n",
    "UNKNOWN_LABEL_DATASET_PIPELINE: DatasetV2 = tf.data.Dataset.from_tensor_slices(UNKNOWN_LABEL_PATHS_SHUFFLED)\n",
    "\n",
    "YES_LABELED_DATASET_LABEL_MAPPED: DatasetV2 = YES_LABEL_DATASET_PIPELINE.map(path_to_tensor_label_map)\n",
    "NO_LABELED_DATASET_LABEL_MAPPED: DatasetV2 = NO_LABEL_DATASET_PIPELINE.map(path_to_tensor_label_map)\n",
    "UNKNOWN_LABELED_DATASET_LABEL_MAPPED: DatasetV2 = UNKNOWN_LABEL_DATASET_PIPELINE.map(path_to_tensor_label_map)\n",
    "\n",
    "TRAIN_RATIO: Final[float] = 0.6\n",
    "TEST_RATIO: Final[float] = 0.2\n",
    "VALIDATION_RATIO: Final[float] = 0.2\n",
    "\n",
    "SAMPLE_SIZE_FOR_EACH_CLASS: Final[int] = min(len(YES_LABEL_PATHS), len(NO_LABEL_PATHS), len(UNKNOWN_LABEL_PATHS))\n",
    "\n",
    "TRAIN_SIZE: Final[int] = int(TRAIN_RATIO * SAMPLE_SIZE_FOR_EACH_CLASS)\n",
    "TEST_SIZE: Final[int] = int(TEST_RATIO * SAMPLE_SIZE_FOR_EACH_CLASS)\n",
    "VALIDATION_SIZE: Final[int] = int(VALIDATION_RATIO * SAMPLE_SIZE_FOR_EACH_CLASS)\n",
    "\n",
    "TRAIN_DATASET_FOR_YES_LABEL_IN_WAVEFORM: DatasetV2 = YES_LABELED_DATASET_LABEL_MAPPED.take(TRAIN_SIZE)\n",
    "TRAIN_DATASET_FOR_NO_LABEL_IN_WAVEFORM: DatasetV2 = NO_LABELED_DATASET_LABEL_MAPPED.take(TRAIN_SIZE)\n",
    "TRAIN_DATASET_FOR_UNKNOWN_LABEL_IN_WAVEFORM: DatasetV2 = UNKNOWN_LABELED_DATASET_LABEL_MAPPED.take(TRAIN_SIZE)\n",
    "\n",
    "REMAINING_YES = YES_LABELED_DATASET_LABEL_MAPPED.skip(TRAIN_SIZE)\n",
    "REMAINING_NO = NO_LABELED_DATASET_LABEL_MAPPED.skip(TRAIN_SIZE)\n",
    "REMAINING_UNKNOWN = UNKNOWN_LABELED_DATASET_LABEL_MAPPED.skip(TRAIN_SIZE)\n",
    "\n",
    "TEST_DATASET_FOR_YES_LABEL_IN_WAVEFORM: DatasetV2 = REMAINING_YES.take(TEST_SIZE)\n",
    "TEST_DATASET_FOR_NO_LABEL_IN_WAVEFORM: DatasetV2 = REMAINING_NO.take(TEST_SIZE)\n",
    "TEST_DATASET_FOR_UNKNOWN_LABEL_IN_WAVEFORM: DatasetV2 = REMAINING_UNKNOWN.take(TEST_SIZE)\n",
    "\n",
    "REMAINING_YES = REMAINING_YES.skip(TEST_SIZE)\n",
    "REMAINING_NO = REMAINING_NO.skip(TEST_SIZE)\n",
    "REMAINING_UNKNOWN = REMAINING_UNKNOWN.skip(TEST_SIZE)\n",
    "\n",
    "VALIDATION_DATASET_FOR_YES_LABEL_IN_WAVEFORM: DatasetV2 = REMAINING_YES.take(VALIDATION_SIZE)\n",
    "VALIDATION_DATASET_FOR_NO_LABEL_IN_WAVEFORM: DatasetV2 = REMAINING_NO.take(VALIDATION_SIZE)\n",
    "VALIDATION_DATASET_FOR_UNKNOWN_LABEL_IN_WAVEFORM: DatasetV2 = REMAINING_UNKNOWN.take(VALIDATION_SIZE)\n",
    "\n",
    "TRAIN_DATASET_FOR_YES_LABEL_IN_SPEC = convert_waveform_to_spectrogram(TRAIN_DATASET_FOR_YES_LABEL_IN_WAVEFORM)\n",
    "TRAIN_DATASET_FOR_NO_LABEL_IN_SPEC = convert_waveform_to_spectrogram(TRAIN_DATASET_FOR_NO_LABEL_IN_WAVEFORM)\n",
    "TRAIN_DATASET_FOR_UNKNOWN_LABEL_IN_SPEC = convert_waveform_to_spectrogram(TRAIN_DATASET_FOR_UNKNOWN_LABEL_IN_WAVEFORM)\n",
    "\n",
    "TEST_DATASET_FOR_YES_LABEL_IN_SPEC = convert_waveform_to_spectrogram(TEST_DATASET_FOR_YES_LABEL_IN_WAVEFORM)\n",
    "TEST_DATASET_FOR_NO_LABEL_IN_SPEC = convert_waveform_to_spectrogram(TEST_DATASET_FOR_NO_LABEL_IN_WAVEFORM)\n",
    "TEST_DATASET_FOR_UNKNOWN_LABEL_IN_SPEC = convert_waveform_to_spectrogram(TEST_DATASET_FOR_UNKNOWN_LABEL_IN_WAVEFORM)\n",
    "\n",
    "VALIDATION_DATASET_FOR_YES_LABEL_IN_SPEC = convert_waveform_to_spectrogram(VALIDATION_DATASET_FOR_YES_LABEL_IN_WAVEFORM)\n",
    "VALIDATION_DATASET_FOR_NO_LABEL_IN_SPEC = convert_waveform_to_spectrogram(VALIDATION_DATASET_FOR_NO_LABEL_IN_WAVEFORM)\n",
    "VALIDATION_DATASET_FOR_UNKNOWN_LABEL_IN_SPEC = convert_waveform_to_spectrogram(\n",
    "    VALIDATION_DATASET_FOR_UNKNOWN_LABEL_IN_WAVEFORM)\n",
    "\n",
    "TRAIN_DATASET = TRAIN_DATASET_FOR_YES_LABEL_IN_SPEC.concatenate(TRAIN_DATASET_FOR_NO_LABEL_IN_SPEC).concatenate(\n",
    "    TRAIN_DATASET_FOR_UNKNOWN_LABEL_IN_SPEC).shuffle(1000)\n",
    "TEST_DATASET = TEST_DATASET_FOR_YES_LABEL_IN_SPEC.concatenate(TEST_DATASET_FOR_NO_LABEL_IN_SPEC).concatenate(\n",
    "    TEST_DATASET_FOR_UNKNOWN_LABEL_IN_SPEC).shuffle(1000)\n",
    "VALIDATION_DATASET = VALIDATION_DATASET_FOR_YES_LABEL_IN_SPEC.concatenate(\n",
    "    VALIDATION_DATASET_FOR_NO_LABEL_IN_SPEC).concatenate(VALIDATION_DATASET_FOR_UNKNOWN_LABEL_IN_SPEC).shuffle(1000)\n",
    "\n",
    "del TRAIN_SIZE, TEST_SIZE, VALIDATION_SIZE\n",
    "\n",
    "del YES_LABEL_PATHS, NO_LABEL_PATHS, UNKNOWN_LABEL_PATHS\n",
    "del YES_LABEL_PATHS_SHUFFLED, NO_LABEL_PATHS_SHUFFLED, UNKNOWN_LABEL_PATHS_SHUFFLED\n",
    "\n",
    "del YES_LABEL_DATASET_PIPELINE, NO_LABEL_DATASET_PIPELINE, UNKNOWN_LABEL_DATASET_PIPELINE\n",
    "del YES_LABELED_DATASET_LABEL_MAPPED, NO_LABELED_DATASET_LABEL_MAPPED, UNKNOWN_LABELED_DATASET_LABEL_MAPPED\n",
    "\n",
    "del TRAIN_DATASET_FOR_YES_LABEL_IN_WAVEFORM, TRAIN_DATASET_FOR_NO_LABEL_IN_WAVEFORM, TRAIN_DATASET_FOR_UNKNOWN_LABEL_IN_WAVEFORM\n",
    "del TEST_DATASET_FOR_YES_LABEL_IN_WAVEFORM, TEST_DATASET_FOR_NO_LABEL_IN_WAVEFORM, TEST_DATASET_FOR_UNKNOWN_LABEL_IN_WAVEFORM\n",
    "del VALIDATION_DATASET_FOR_YES_LABEL_IN_WAVEFORM, VALIDATION_DATASET_FOR_NO_LABEL_IN_WAVEFORM, VALIDATION_DATASET_FOR_UNKNOWN_LABEL_IN_WAVEFORM\n",
    "gc.collect()\n",
    "\n",
    "SHAPE_OF_FEATURES = TRAIN_DATASET.element_spec[0].shape\n",
    "\n",
    "\n",
    "def check_dataset_distribution(dataset, dataset_name):\n",
    "    label_counts = Counter()\n",
    "\n",
    "    for _, label in dataset.as_numpy_iterator():\n",
    "        label_counts[label] += 1\n",
    "\n",
    "    print(f\"Distribution for class {dataset_name}:\", label_counts)\n",
    "\n",
    "\n",
    "check_dataset_distribution(TRAIN_DATASET, \"Train\")\n",
    "check_dataset_distribution(TEST_DATASET, \"Test\")\n",
    "check_dataset_distribution(VALIDATION_DATASET, \"Validation\")\n",
    "\n",
    "print(SHAPE_OF_FEATURES)\n",
    "\n"
   ],
   "id": "4880aa0df97adf39",
   "outputs": [
    {
     "name": "stdout",
     "output_type": "stream",
     "text": [
      "Distribution for class Train: Counter({np.int64(0): 1200, np.int64(1): 1200, np.int64(2): 1200})\n",
      "Distribution for class Test: Counter({np.int64(0): 400, np.int64(1): 400, np.int64(2): 400})\n",
      "Distribution for class Validation: Counter({np.int64(1): 400, np.int64(0): 400, np.int64(2): 400})\n",
      "(1, 129, 247)\n"
     ]
    }
   ],
   "execution_count": 35
  },
  {
   "metadata": {},
   "cell_type": "markdown",
   "source": "### Batching:",
   "id": "ef1952b14c3e5c5"
  },
  {
   "metadata": {
    "ExecuteTime": {
     "end_time": "2025-03-04T18:28:41.966330Z",
     "start_time": "2025-03-04T18:28:38.903642Z"
    }
   },
   "cell_type": "code",
   "source": [
    "BATCH_SIZE = 32\n",
    "\n",
    "TRAIN_DATASET_BATCH = TRAIN_DATASET.map(\n",
    "    lambda spec, label: (tf.squeeze(tf.expand_dims(spec, axis=0), axis=1), label)\n",
    ").batch(BATCH_SIZE)\n",
    "\n",
    "VALIDATION_DATASET_BATCH = VALIDATION_DATASET.map(\n",
    "    lambda spec, label: (tf.squeeze(tf.expand_dims(spec, axis=0), axis=1), label)\n",
    ").batch(BATCH_SIZE)\n",
    "\n",
    "for spec_train, label_train in TRAIN_DATASET_BATCH.take(1):\n",
    "    print(f\"Shape of spectrogram: {spec_train.shape}\")\n",
    "    print(f\"Shape of label: {label_train.shape}\")\n",
    "    print(f\"Label: {spec_train}\")\n",
    "\n",
    "for sample_train, label_train in TRAIN_DATASET_BATCH.take(1):\n",
    "    print(\"Example sample shape\", sample_train.shape)\n",
    "    print(\"Label:\", label_train.numpy())"
   ],
   "id": "d9524e147744922",
   "outputs": [
    {
     "name": "stdout",
     "output_type": "stream",
     "text": [
      "Shape of spectrogram: (32, 1, 129, 247)\n",
      "Shape of label: (32,)\n",
      "Label: [[[[3.6372060e-03 1.4984535e-02 1.8859843e-02 ... 2.8484568e-04\n",
      "    2.6390239e-04 2.7540021e-04]\n",
      "   [2.9186273e-04 3.9269472e-04 3.2701602e-04 ... 3.8154155e-04\n",
      "    6.8996823e-04 7.9400023e-04]\n",
      "   [3.7033754e-04 9.0530678e-04 9.0653310e-04 ... 1.5110029e-03\n",
      "    6.0928660e-04 1.1563622e-03]\n",
      "   ...\n",
      "   [9.9766895e-04 2.2456006e-03 2.9667225e-03 ... 2.6381954e-03\n",
      "    3.4401100e-03 6.9328225e-03]\n",
      "   [3.7484432e-03 8.1361942e-03 9.0006553e-03 ... 1.6468646e-02\n",
      "    2.3190219e-02 2.8848020e-02]\n",
      "   [2.6435860e-02 8.3600627e-03 1.4002785e-02 ... 3.7172391e-05\n",
      "    1.8163575e-05 3.6537182e-05]]]\n",
      "\n",
      "\n",
      " [[[1.4869446e-01 1.1293005e-01 7.7263504e-02 ... 3.6685329e-03\n",
      "    2.1930528e-03 5.8975187e-04]\n",
      "   [5.3106440e-04 4.1298560e-04 3.6002813e-05 ... 8.0198003e-03\n",
      "    5.9013632e-03 2.6146031e-03]\n",
      "   [4.3817651e-03 8.1815710e-03 9.5523996e-03 ... 2.4421134e-03\n",
      "    3.9020050e-03 4.9823271e-03]\n",
      "   ...\n",
      "   [3.6935019e-03 3.5309389e-03 4.4605979e-03 ... 2.1876309e-02\n",
      "    1.0804240e-02 3.0079060e-03]\n",
      "   [7.2230296e-03 9.1640372e-03 1.6404383e-02 ... 3.2824680e-02\n",
      "    3.3430092e-02 1.5960949e-02]\n",
      "   [1.4328684e-02 2.2174470e-02 3.4264587e-02 ... 6.5561595e-05\n",
      "    1.3036563e-04 1.7949939e-04]]]\n",
      "\n",
      "\n",
      " [[[2.7372918e-01 1.5030254e-01 2.4533855e-02 ... 1.5455161e-03\n",
      "    9.4835286e-04 3.0832936e-04]\n",
      "   [2.2075066e-04 2.7596237e-04 2.4330072e-04 ... 7.6971838e-04\n",
      "    7.0582819e-04 8.3690975e-04]\n",
      "   [1.2759283e-03 1.0116766e-03 1.5242429e-03 ... 1.0515868e-02\n",
      "    1.3019829e-02 1.5236567e-02]\n",
      "   ...\n",
      "   [6.2677928e-04 1.6542675e-03 2.3655936e-03 ... 4.0060980e-03\n",
      "    2.5572870e-03 6.6399141e-03]\n",
      "   [6.9428361e-03 2.4649128e-03 2.3996835e-03 ... 1.3021134e-02\n",
      "    9.1648679e-03 7.8629423e-03]\n",
      "   [5.9765987e-03 4.2727375e-03 2.9757521e-03 ... 1.5781740e-04\n",
      "    1.6583956e-04 1.3674796e-04]]]\n",
      "\n",
      "\n",
      " ...\n",
      "\n",
      "\n",
      " [[[1.6565803e-03 2.1375897e-03 2.8094058e-03 ... 2.6474512e-04\n",
      "    2.7525963e-04 1.2077506e-04]\n",
      "   [3.0511292e-05 1.0132476e-04 1.8273896e-04 ... 2.0762689e-04\n",
      "    3.0695225e-04 4.0521668e-04]\n",
      "   [4.8785954e-04 4.2543354e-04 3.7534558e-04 ... 9.0423675e-04\n",
      "    7.3076406e-04 4.1924155e-04]\n",
      "   ...\n",
      "   [2.9560972e-03 2.3040590e-03 6.7945069e-04 ... 1.6854211e-03\n",
      "    3.0818109e-03 4.6107215e-03]\n",
      "   [2.4723315e-03 5.8442046e-04 6.3624308e-03 ... 1.3879621e-03\n",
      "    2.5101684e-03 1.0247846e-03]\n",
      "   [1.3264987e-03 4.6765045e-04 1.0634947e-03 ... 2.2045415e-05\n",
      "    8.7210057e-05 4.9222901e-05]]]\n",
      "\n",
      "\n",
      " [[[3.6894564e-02 1.5565641e-01 7.5812422e-02 ... 4.3087424e-04\n",
      "    3.5369722e-04 4.1264997e-04]\n",
      "   [1.7666881e-04 2.5443532e-04 2.0496495e-04 ... 1.1356563e-03\n",
      "    7.8478706e-04 5.1616877e-04]\n",
      "   [4.1009430e-04 6.1520789e-04 2.2126795e-04 ... 8.1195054e-04\n",
      "    4.4691091e-04 1.0992149e-03]\n",
      "   ...\n",
      "   [1.9536652e-03 2.5430140e-03 2.3793387e-03 ... 3.6584181e-03\n",
      "    1.8005125e-03 2.5727430e-03]\n",
      "   [5.8118287e-03 4.1378886e-03 2.2417922e-03 ... 1.2333268e-02\n",
      "    5.3914646e-03 9.7031761e-03]\n",
      "   [1.0774721e-02 6.6972906e-03 3.4412139e-03 ... 8.8849563e-05\n",
      "    1.0634770e-04 7.8290701e-05]]]\n",
      "\n",
      "\n",
      " [[[1.6248367e-04 3.1312861e-04 6.6498156e-05 ... 1.3556368e-04\n",
      "    9.4221206e-05 2.4842881e-04]\n",
      "   [1.6941235e-04 9.1790258e-05 1.2822062e-04 ... 4.2346833e-04\n",
      "    2.6124436e-04 8.2093575e-05]\n",
      "   [8.4229599e-05 6.8933485e-05 2.0594701e-04 ... 2.8642447e-04\n",
      "    2.3035078e-04 2.0669104e-04]\n",
      "   ...\n",
      "   [3.5591683e-04 5.4703897e-04 6.4034556e-04 ... 4.3299908e-04\n",
      "    4.2289170e-04 7.3363120e-04]\n",
      "   [1.1440921e-03 1.0826511e-03 6.6777348e-04 ... 6.5882015e-04\n",
      "    5.2653253e-04 1.3346366e-03]\n",
      "   [1.5938003e-03 1.6487248e-03 6.4388337e-04 ... 3.9311311e-05\n",
      "    5.0604001e-05 2.7394810e-05]]]]\n",
      "Example sample shape (32, 1, 129, 247)\n",
      "Label: [0 0 0 0 0 0 0 0 0 0 0 0 0 0 0 0 0 0 0 0 0 0 0 0 0 0 0 0 0 0 0 0]\n"
     ]
    }
   ],
   "execution_count": 37
  },
  {
   "metadata": {},
   "cell_type": "markdown",
   "source": "### Inspecting the data",
   "id": "5eb9145d4e0ffbc8"
  },
  {
   "metadata": {
    "ExecuteTime": {
     "end_time": "2025-03-04T18:27:50.463427200Z",
     "start_time": "2025-03-04T18:18:44.176788Z"
    }
   },
   "cell_type": "code",
   "source": [
    "\"\"\"\n",
    "import matplotlib.pyplot as plt\n",
    "\n",
    "waveforms = []\n",
    "labels = []\n",
    "\n",
    "for audio, label in TRAIN_DATASET_FOR_YES_LABEL_IN_WAVEFORM.as_numpy_iterator():\n",
    "    waveforms.append(audio)\n",
    "    labels.append(label.decode())\n",
    "\n",
    "# Plot waveforms\n",
    "fig, axes = plt.subplots(nrows=10, ncols=5, figsize=(15, 20))\n",
    "axes = axes.flatten()\n",
    "\n",
    "for i, (waveform, label) in enumerate(zip(waveforms, labels)):\n",
    "    if i >= len(axes):\n",
    "        break\n",
    "\n",
    "    axes[i].plot(waveform)\n",
    "    axes[i].set_title(f\"Sample {i} - Label: {label}\")\n",
    "    axes[i].set_xlabel(\"Time\")\n",
    "    axes[i].set_ylabel(\"Amplitude\")\n",
    "\n",
    "plt.tight_layout()\n",
    "plt.show()\n",
    "\n",
    "\"\"\""
   ],
   "id": "4e3a18cb10ec4d96",
   "outputs": [
    {
     "data": {
      "text/plain": [
       "'\\nimport matplotlib.pyplot as plt\\n\\nwaveforms = []\\nlabels = []\\n\\nfor audio, label in TRAIN_DATASET_FOR_YES_LABEL_IN_WAVEFORM.as_numpy_iterator():\\n    waveforms.append(audio)\\n    labels.append(label.decode())\\n\\n# Plot waveforms\\nfig, axes = plt.subplots(nrows=10, ncols=5, figsize=(15, 20))\\naxes = axes.flatten()\\n\\nfor i, (waveform, label) in enumerate(zip(waveforms, labels)):\\n    if i >= len(axes):\\n        break\\n\\n    axes[i].plot(waveform)\\n    axes[i].set_title(f\"Sample {i} - Label: {label}\")\\n    axes[i].set_xlabel(\"Time\")\\n    axes[i].set_ylabel(\"Amplitude\")\\n\\nplt.tight_layout()\\nplt.show()\\n\\n'"
      ]
     },
     "execution_count": 28,
     "metadata": {},
     "output_type": "execute_result"
    }
   ],
   "execution_count": 28
  },
  {
   "metadata": {},
   "cell_type": "markdown",
   "source": "### Building Model:",
   "id": "4ea5a159a2e341c8"
  },
  {
   "metadata": {
    "ExecuteTime": {
     "end_time": "2025-03-04T18:28:59.204156Z",
     "start_time": "2025-03-04T18:28:54.173722Z"
    }
   },
   "cell_type": "code",
   "source": [
    "norm_layer = Normalization()\n",
    "\n",
    "norm_layer.adapt(TRAIN_DATASET_BATCH.map(lambda spec, label: spec))\n",
    "\n",
    "model = models.Sequential()\n",
    "\n",
    "model.add(layers.Input(shape=SHAPE_OF_FEATURES))\n",
    "model.add(layers.Resizing(32, 32))\n",
    "model.add(norm_layer)\n",
    "\n",
    "model.add(layers.Conv2D(32, 3, activation='relu', padding='same'))\n",
    "model.add(layers.BatchNormalization())\n",
    "model.add(layers.Conv2D(64, 3, activation='relu', padding='same'))\n",
    "model.add(layers.BatchNormalization())\n",
    "model.add(layers.MaxPooling2D())\n",
    "model.add(layers.Dropout(0.25))\n",
    "\n",
    "model.add(layers.Conv2D(128, 3, activation='relu', padding='same'))\n",
    "model.add(layers.BatchNormalization())\n",
    "model.add(layers.Conv2D(128, 3, activation='relu', padding='same'))\n",
    "model.add(layers.Conv2D(64, 3, activation='relu', padding='same', kernel_regularizer=tf.keras.regularizers.l2(0.001)))\n",
    "model.add(layers.MaxPooling2D())\n",
    "model.add(layers.Dropout(0.25))\n",
    "\n",
    "model.add(layers.GlobalAveragePooling2D())\n",
    "\n",
    "model.add(layers.Dense(128, activation='relu', kernel_regularizer=tf.keras.regularizers.l2(0.001)))\n",
    "model.add(layers.Dropout(0.5))\n",
    "model.add(layers.Dense(len(CATEGORIES), activation='softmax'))\n",
    "\n",
    "model.summary()\n",
    "\n",
    "lr_callback = tf.keras.callbacks.ReduceLROnPlateau(\n",
    "    monitor=\"val_loss\",\n",
    "    factor=0.5,\n",
    "    patience=5,\n",
    "    min_lr=1e-6\n",
    ")\n",
    "\n",
    "early_stopping = tf.keras.callbacks.EarlyStopping(\n",
    "    monitor=\"val_loss\",\n",
    "    patience=10,\n",
    "    restore_best_weights=True\n",
    ")\n",
    "\n",
    "print(\"Model Input Shape:\", model.input_shape)\n",
    "print(\"Model Output Shape:\", model.output_shape)\n"
   ],
   "id": "a70a14d336afd4e8",
   "outputs": [
    {
     "data": {
      "text/plain": [
       "\u001B[1mModel: \"sequential_4\"\u001B[0m\n"
      ],
      "text/html": [
       "<pre style=\"white-space:pre;overflow-x:auto;line-height:normal;font-family:Menlo,'DejaVu Sans Mono',consolas,'Courier New',monospace\"><span style=\"font-weight: bold\">Model: \"sequential_4\"</span>\n",
       "</pre>\n"
      ]
     },
     "metadata": {},
     "output_type": "display_data"
    },
    {
     "data": {
      "text/plain": [
       "┏━━━━━━━━━━━━━━━━━━━━━━━━━━━━━━━━━┳━━━━━━━━━━━━━━━━━━━━━━━━┳━━━━━━━━━━━━━━━┓\n",
       "┃\u001B[1m \u001B[0m\u001B[1mLayer (type)                   \u001B[0m\u001B[1m \u001B[0m┃\u001B[1m \u001B[0m\u001B[1mOutput Shape          \u001B[0m\u001B[1m \u001B[0m┃\u001B[1m \u001B[0m\u001B[1m      Param #\u001B[0m\u001B[1m \u001B[0m┃\n",
       "┡━━━━━━━━━━━━━━━━━━━━━━━━━━━━━━━━━╇━━━━━━━━━━━━━━━━━━━━━━━━╇━━━━━━━━━━━━━━━┩\n",
       "│ resizing_4 (\u001B[38;5;33mResizing\u001B[0m)           │ (\u001B[38;5;45mNone\u001B[0m, \u001B[38;5;34m32\u001B[0m, \u001B[38;5;34m32\u001B[0m, \u001B[38;5;34m247\u001B[0m)    │             \u001B[38;5;34m0\u001B[0m │\n",
       "├─────────────────────────────────┼────────────────────────┼───────────────┤\n",
       "│ normalization_4 (\u001B[38;5;33mNormalization\u001B[0m) │ (\u001B[38;5;45mNone\u001B[0m, \u001B[38;5;34m32\u001B[0m, \u001B[38;5;34m32\u001B[0m, \u001B[38;5;34m247\u001B[0m)    │           \u001B[38;5;34m495\u001B[0m │\n",
       "├─────────────────────────────────┼────────────────────────┼───────────────┤\n",
       "│ conv2d_17 (\u001B[38;5;33mConv2D\u001B[0m)              │ (\u001B[38;5;45mNone\u001B[0m, \u001B[38;5;34m32\u001B[0m, \u001B[38;5;34m32\u001B[0m, \u001B[38;5;34m32\u001B[0m)     │        \u001B[38;5;34m71,168\u001B[0m │\n",
       "├─────────────────────────────────┼────────────────────────┼───────────────┤\n",
       "│ batch_normalization_15          │ (\u001B[38;5;45mNone\u001B[0m, \u001B[38;5;34m32\u001B[0m, \u001B[38;5;34m32\u001B[0m, \u001B[38;5;34m32\u001B[0m)     │           \u001B[38;5;34m128\u001B[0m │\n",
       "│ (\u001B[38;5;33mBatchNormalization\u001B[0m)            │                        │               │\n",
       "├─────────────────────────────────┼────────────────────────┼───────────────┤\n",
       "│ conv2d_18 (\u001B[38;5;33mConv2D\u001B[0m)              │ (\u001B[38;5;45mNone\u001B[0m, \u001B[38;5;34m32\u001B[0m, \u001B[38;5;34m32\u001B[0m, \u001B[38;5;34m64\u001B[0m)     │        \u001B[38;5;34m18,496\u001B[0m │\n",
       "├─────────────────────────────────┼────────────────────────┼───────────────┤\n",
       "│ batch_normalization_16          │ (\u001B[38;5;45mNone\u001B[0m, \u001B[38;5;34m32\u001B[0m, \u001B[38;5;34m32\u001B[0m, \u001B[38;5;34m64\u001B[0m)     │           \u001B[38;5;34m256\u001B[0m │\n",
       "│ (\u001B[38;5;33mBatchNormalization\u001B[0m)            │                        │               │\n",
       "├─────────────────────────────────┼────────────────────────┼───────────────┤\n",
       "│ max_pooling2d_8 (\u001B[38;5;33mMaxPooling2D\u001B[0m)  │ (\u001B[38;5;45mNone\u001B[0m, \u001B[38;5;34m16\u001B[0m, \u001B[38;5;34m16\u001B[0m, \u001B[38;5;34m64\u001B[0m)     │             \u001B[38;5;34m0\u001B[0m │\n",
       "├─────────────────────────────────┼────────────────────────┼───────────────┤\n",
       "│ dropout_12 (\u001B[38;5;33mDropout\u001B[0m)            │ (\u001B[38;5;45mNone\u001B[0m, \u001B[38;5;34m16\u001B[0m, \u001B[38;5;34m16\u001B[0m, \u001B[38;5;34m64\u001B[0m)     │             \u001B[38;5;34m0\u001B[0m │\n",
       "├─────────────────────────────────┼────────────────────────┼───────────────┤\n",
       "│ conv2d_19 (\u001B[38;5;33mConv2D\u001B[0m)              │ (\u001B[38;5;45mNone\u001B[0m, \u001B[38;5;34m16\u001B[0m, \u001B[38;5;34m16\u001B[0m, \u001B[38;5;34m128\u001B[0m)    │        \u001B[38;5;34m73,856\u001B[0m │\n",
       "├─────────────────────────────────┼────────────────────────┼───────────────┤\n",
       "│ batch_normalization_17          │ (\u001B[38;5;45mNone\u001B[0m, \u001B[38;5;34m16\u001B[0m, \u001B[38;5;34m16\u001B[0m, \u001B[38;5;34m128\u001B[0m)    │           \u001B[38;5;34m512\u001B[0m │\n",
       "│ (\u001B[38;5;33mBatchNormalization\u001B[0m)            │                        │               │\n",
       "├─────────────────────────────────┼────────────────────────┼───────────────┤\n",
       "│ conv2d_20 (\u001B[38;5;33mConv2D\u001B[0m)              │ (\u001B[38;5;45mNone\u001B[0m, \u001B[38;5;34m16\u001B[0m, \u001B[38;5;34m16\u001B[0m, \u001B[38;5;34m128\u001B[0m)    │       \u001B[38;5;34m147,584\u001B[0m │\n",
       "├─────────────────────────────────┼────────────────────────┼───────────────┤\n",
       "│ conv2d_21 (\u001B[38;5;33mConv2D\u001B[0m)              │ (\u001B[38;5;45mNone\u001B[0m, \u001B[38;5;34m16\u001B[0m, \u001B[38;5;34m16\u001B[0m, \u001B[38;5;34m64\u001B[0m)     │        \u001B[38;5;34m73,792\u001B[0m │\n",
       "├─────────────────────────────────┼────────────────────────┼───────────────┤\n",
       "│ max_pooling2d_9 (\u001B[38;5;33mMaxPooling2D\u001B[0m)  │ (\u001B[38;5;45mNone\u001B[0m, \u001B[38;5;34m8\u001B[0m, \u001B[38;5;34m8\u001B[0m, \u001B[38;5;34m64\u001B[0m)       │             \u001B[38;5;34m0\u001B[0m │\n",
       "├─────────────────────────────────┼────────────────────────┼───────────────┤\n",
       "│ dropout_13 (\u001B[38;5;33mDropout\u001B[0m)            │ (\u001B[38;5;45mNone\u001B[0m, \u001B[38;5;34m8\u001B[0m, \u001B[38;5;34m8\u001B[0m, \u001B[38;5;34m64\u001B[0m)       │             \u001B[38;5;34m0\u001B[0m │\n",
       "├─────────────────────────────────┼────────────────────────┼───────────────┤\n",
       "│ global_average_pooling2d_1      │ (\u001B[38;5;45mNone\u001B[0m, \u001B[38;5;34m64\u001B[0m)             │             \u001B[38;5;34m0\u001B[0m │\n",
       "│ (\u001B[38;5;33mGlobalAveragePooling2D\u001B[0m)        │                        │               │\n",
       "├─────────────────────────────────┼────────────────────────┼───────────────┤\n",
       "│ dense_8 (\u001B[38;5;33mDense\u001B[0m)                 │ (\u001B[38;5;45mNone\u001B[0m, \u001B[38;5;34m128\u001B[0m)            │         \u001B[38;5;34m8,320\u001B[0m │\n",
       "├─────────────────────────────────┼────────────────────────┼───────────────┤\n",
       "│ dropout_14 (\u001B[38;5;33mDropout\u001B[0m)            │ (\u001B[38;5;45mNone\u001B[0m, \u001B[38;5;34m128\u001B[0m)            │             \u001B[38;5;34m0\u001B[0m │\n",
       "├─────────────────────────────────┼────────────────────────┼───────────────┤\n",
       "│ dense_9 (\u001B[38;5;33mDense\u001B[0m)                 │ (\u001B[38;5;45mNone\u001B[0m, \u001B[38;5;34m3\u001B[0m)              │           \u001B[38;5;34m387\u001B[0m │\n",
       "└─────────────────────────────────┴────────────────────────┴───────────────┘\n"
      ],
      "text/html": [
       "<pre style=\"white-space:pre;overflow-x:auto;line-height:normal;font-family:Menlo,'DejaVu Sans Mono',consolas,'Courier New',monospace\">┏━━━━━━━━━━━━━━━━━━━━━━━━━━━━━━━━━┳━━━━━━━━━━━━━━━━━━━━━━━━┳━━━━━━━━━━━━━━━┓\n",
       "┃<span style=\"font-weight: bold\"> Layer (type)                    </span>┃<span style=\"font-weight: bold\"> Output Shape           </span>┃<span style=\"font-weight: bold\">       Param # </span>┃\n",
       "┡━━━━━━━━━━━━━━━━━━━━━━━━━━━━━━━━━╇━━━━━━━━━━━━━━━━━━━━━━━━╇━━━━━━━━━━━━━━━┩\n",
       "│ resizing_4 (<span style=\"color: #0087ff; text-decoration-color: #0087ff\">Resizing</span>)           │ (<span style=\"color: #00d7ff; text-decoration-color: #00d7ff\">None</span>, <span style=\"color: #00af00; text-decoration-color: #00af00\">32</span>, <span style=\"color: #00af00; text-decoration-color: #00af00\">32</span>, <span style=\"color: #00af00; text-decoration-color: #00af00\">247</span>)    │             <span style=\"color: #00af00; text-decoration-color: #00af00\">0</span> │\n",
       "├─────────────────────────────────┼────────────────────────┼───────────────┤\n",
       "│ normalization_4 (<span style=\"color: #0087ff; text-decoration-color: #0087ff\">Normalization</span>) │ (<span style=\"color: #00d7ff; text-decoration-color: #00d7ff\">None</span>, <span style=\"color: #00af00; text-decoration-color: #00af00\">32</span>, <span style=\"color: #00af00; text-decoration-color: #00af00\">32</span>, <span style=\"color: #00af00; text-decoration-color: #00af00\">247</span>)    │           <span style=\"color: #00af00; text-decoration-color: #00af00\">495</span> │\n",
       "├─────────────────────────────────┼────────────────────────┼───────────────┤\n",
       "│ conv2d_17 (<span style=\"color: #0087ff; text-decoration-color: #0087ff\">Conv2D</span>)              │ (<span style=\"color: #00d7ff; text-decoration-color: #00d7ff\">None</span>, <span style=\"color: #00af00; text-decoration-color: #00af00\">32</span>, <span style=\"color: #00af00; text-decoration-color: #00af00\">32</span>, <span style=\"color: #00af00; text-decoration-color: #00af00\">32</span>)     │        <span style=\"color: #00af00; text-decoration-color: #00af00\">71,168</span> │\n",
       "├─────────────────────────────────┼────────────────────────┼───────────────┤\n",
       "│ batch_normalization_15          │ (<span style=\"color: #00d7ff; text-decoration-color: #00d7ff\">None</span>, <span style=\"color: #00af00; text-decoration-color: #00af00\">32</span>, <span style=\"color: #00af00; text-decoration-color: #00af00\">32</span>, <span style=\"color: #00af00; text-decoration-color: #00af00\">32</span>)     │           <span style=\"color: #00af00; text-decoration-color: #00af00\">128</span> │\n",
       "│ (<span style=\"color: #0087ff; text-decoration-color: #0087ff\">BatchNormalization</span>)            │                        │               │\n",
       "├─────────────────────────────────┼────────────────────────┼───────────────┤\n",
       "│ conv2d_18 (<span style=\"color: #0087ff; text-decoration-color: #0087ff\">Conv2D</span>)              │ (<span style=\"color: #00d7ff; text-decoration-color: #00d7ff\">None</span>, <span style=\"color: #00af00; text-decoration-color: #00af00\">32</span>, <span style=\"color: #00af00; text-decoration-color: #00af00\">32</span>, <span style=\"color: #00af00; text-decoration-color: #00af00\">64</span>)     │        <span style=\"color: #00af00; text-decoration-color: #00af00\">18,496</span> │\n",
       "├─────────────────────────────────┼────────────────────────┼───────────────┤\n",
       "│ batch_normalization_16          │ (<span style=\"color: #00d7ff; text-decoration-color: #00d7ff\">None</span>, <span style=\"color: #00af00; text-decoration-color: #00af00\">32</span>, <span style=\"color: #00af00; text-decoration-color: #00af00\">32</span>, <span style=\"color: #00af00; text-decoration-color: #00af00\">64</span>)     │           <span style=\"color: #00af00; text-decoration-color: #00af00\">256</span> │\n",
       "│ (<span style=\"color: #0087ff; text-decoration-color: #0087ff\">BatchNormalization</span>)            │                        │               │\n",
       "├─────────────────────────────────┼────────────────────────┼───────────────┤\n",
       "│ max_pooling2d_8 (<span style=\"color: #0087ff; text-decoration-color: #0087ff\">MaxPooling2D</span>)  │ (<span style=\"color: #00d7ff; text-decoration-color: #00d7ff\">None</span>, <span style=\"color: #00af00; text-decoration-color: #00af00\">16</span>, <span style=\"color: #00af00; text-decoration-color: #00af00\">16</span>, <span style=\"color: #00af00; text-decoration-color: #00af00\">64</span>)     │             <span style=\"color: #00af00; text-decoration-color: #00af00\">0</span> │\n",
       "├─────────────────────────────────┼────────────────────────┼───────────────┤\n",
       "│ dropout_12 (<span style=\"color: #0087ff; text-decoration-color: #0087ff\">Dropout</span>)            │ (<span style=\"color: #00d7ff; text-decoration-color: #00d7ff\">None</span>, <span style=\"color: #00af00; text-decoration-color: #00af00\">16</span>, <span style=\"color: #00af00; text-decoration-color: #00af00\">16</span>, <span style=\"color: #00af00; text-decoration-color: #00af00\">64</span>)     │             <span style=\"color: #00af00; text-decoration-color: #00af00\">0</span> │\n",
       "├─────────────────────────────────┼────────────────────────┼───────────────┤\n",
       "│ conv2d_19 (<span style=\"color: #0087ff; text-decoration-color: #0087ff\">Conv2D</span>)              │ (<span style=\"color: #00d7ff; text-decoration-color: #00d7ff\">None</span>, <span style=\"color: #00af00; text-decoration-color: #00af00\">16</span>, <span style=\"color: #00af00; text-decoration-color: #00af00\">16</span>, <span style=\"color: #00af00; text-decoration-color: #00af00\">128</span>)    │        <span style=\"color: #00af00; text-decoration-color: #00af00\">73,856</span> │\n",
       "├─────────────────────────────────┼────────────────────────┼───────────────┤\n",
       "│ batch_normalization_17          │ (<span style=\"color: #00d7ff; text-decoration-color: #00d7ff\">None</span>, <span style=\"color: #00af00; text-decoration-color: #00af00\">16</span>, <span style=\"color: #00af00; text-decoration-color: #00af00\">16</span>, <span style=\"color: #00af00; text-decoration-color: #00af00\">128</span>)    │           <span style=\"color: #00af00; text-decoration-color: #00af00\">512</span> │\n",
       "│ (<span style=\"color: #0087ff; text-decoration-color: #0087ff\">BatchNormalization</span>)            │                        │               │\n",
       "├─────────────────────────────────┼────────────────────────┼───────────────┤\n",
       "│ conv2d_20 (<span style=\"color: #0087ff; text-decoration-color: #0087ff\">Conv2D</span>)              │ (<span style=\"color: #00d7ff; text-decoration-color: #00d7ff\">None</span>, <span style=\"color: #00af00; text-decoration-color: #00af00\">16</span>, <span style=\"color: #00af00; text-decoration-color: #00af00\">16</span>, <span style=\"color: #00af00; text-decoration-color: #00af00\">128</span>)    │       <span style=\"color: #00af00; text-decoration-color: #00af00\">147,584</span> │\n",
       "├─────────────────────────────────┼────────────────────────┼───────────────┤\n",
       "│ conv2d_21 (<span style=\"color: #0087ff; text-decoration-color: #0087ff\">Conv2D</span>)              │ (<span style=\"color: #00d7ff; text-decoration-color: #00d7ff\">None</span>, <span style=\"color: #00af00; text-decoration-color: #00af00\">16</span>, <span style=\"color: #00af00; text-decoration-color: #00af00\">16</span>, <span style=\"color: #00af00; text-decoration-color: #00af00\">64</span>)     │        <span style=\"color: #00af00; text-decoration-color: #00af00\">73,792</span> │\n",
       "├─────────────────────────────────┼────────────────────────┼───────────────┤\n",
       "│ max_pooling2d_9 (<span style=\"color: #0087ff; text-decoration-color: #0087ff\">MaxPooling2D</span>)  │ (<span style=\"color: #00d7ff; text-decoration-color: #00d7ff\">None</span>, <span style=\"color: #00af00; text-decoration-color: #00af00\">8</span>, <span style=\"color: #00af00; text-decoration-color: #00af00\">8</span>, <span style=\"color: #00af00; text-decoration-color: #00af00\">64</span>)       │             <span style=\"color: #00af00; text-decoration-color: #00af00\">0</span> │\n",
       "├─────────────────────────────────┼────────────────────────┼───────────────┤\n",
       "│ dropout_13 (<span style=\"color: #0087ff; text-decoration-color: #0087ff\">Dropout</span>)            │ (<span style=\"color: #00d7ff; text-decoration-color: #00d7ff\">None</span>, <span style=\"color: #00af00; text-decoration-color: #00af00\">8</span>, <span style=\"color: #00af00; text-decoration-color: #00af00\">8</span>, <span style=\"color: #00af00; text-decoration-color: #00af00\">64</span>)       │             <span style=\"color: #00af00; text-decoration-color: #00af00\">0</span> │\n",
       "├─────────────────────────────────┼────────────────────────┼───────────────┤\n",
       "│ global_average_pooling2d_1      │ (<span style=\"color: #00d7ff; text-decoration-color: #00d7ff\">None</span>, <span style=\"color: #00af00; text-decoration-color: #00af00\">64</span>)             │             <span style=\"color: #00af00; text-decoration-color: #00af00\">0</span> │\n",
       "│ (<span style=\"color: #0087ff; text-decoration-color: #0087ff\">GlobalAveragePooling2D</span>)        │                        │               │\n",
       "├─────────────────────────────────┼────────────────────────┼───────────────┤\n",
       "│ dense_8 (<span style=\"color: #0087ff; text-decoration-color: #0087ff\">Dense</span>)                 │ (<span style=\"color: #00d7ff; text-decoration-color: #00d7ff\">None</span>, <span style=\"color: #00af00; text-decoration-color: #00af00\">128</span>)            │         <span style=\"color: #00af00; text-decoration-color: #00af00\">8,320</span> │\n",
       "├─────────────────────────────────┼────────────────────────┼───────────────┤\n",
       "│ dropout_14 (<span style=\"color: #0087ff; text-decoration-color: #0087ff\">Dropout</span>)            │ (<span style=\"color: #00d7ff; text-decoration-color: #00d7ff\">None</span>, <span style=\"color: #00af00; text-decoration-color: #00af00\">128</span>)            │             <span style=\"color: #00af00; text-decoration-color: #00af00\">0</span> │\n",
       "├─────────────────────────────────┼────────────────────────┼───────────────┤\n",
       "│ dense_9 (<span style=\"color: #0087ff; text-decoration-color: #0087ff\">Dense</span>)                 │ (<span style=\"color: #00d7ff; text-decoration-color: #00d7ff\">None</span>, <span style=\"color: #00af00; text-decoration-color: #00af00\">3</span>)              │           <span style=\"color: #00af00; text-decoration-color: #00af00\">387</span> │\n",
       "└─────────────────────────────────┴────────────────────────┴───────────────┘\n",
       "</pre>\n"
      ]
     },
     "metadata": {},
     "output_type": "display_data"
    },
    {
     "data": {
      "text/plain": [
       "\u001B[1m Total params: \u001B[0m\u001B[38;5;34m394,994\u001B[0m (1.51 MB)\n"
      ],
      "text/html": [
       "<pre style=\"white-space:pre;overflow-x:auto;line-height:normal;font-family:Menlo,'DejaVu Sans Mono',consolas,'Courier New',monospace\"><span style=\"font-weight: bold\"> Total params: </span><span style=\"color: #00af00; text-decoration-color: #00af00\">394,994</span> (1.51 MB)\n",
       "</pre>\n"
      ]
     },
     "metadata": {},
     "output_type": "display_data"
    },
    {
     "data": {
      "text/plain": [
       "\u001B[1m Trainable params: \u001B[0m\u001B[38;5;34m394,051\u001B[0m (1.50 MB)\n"
      ],
      "text/html": [
       "<pre style=\"white-space:pre;overflow-x:auto;line-height:normal;font-family:Menlo,'DejaVu Sans Mono',consolas,'Courier New',monospace\"><span style=\"font-weight: bold\"> Trainable params: </span><span style=\"color: #00af00; text-decoration-color: #00af00\">394,051</span> (1.50 MB)\n",
       "</pre>\n"
      ]
     },
     "metadata": {},
     "output_type": "display_data"
    },
    {
     "data": {
      "text/plain": [
       "\u001B[1m Non-trainable params: \u001B[0m\u001B[38;5;34m943\u001B[0m (3.69 KB)\n"
      ],
      "text/html": [
       "<pre style=\"white-space:pre;overflow-x:auto;line-height:normal;font-family:Menlo,'DejaVu Sans Mono',consolas,'Courier New',monospace\"><span style=\"font-weight: bold\"> Non-trainable params: </span><span style=\"color: #00af00; text-decoration-color: #00af00\">943</span> (3.69 KB)\n",
       "</pre>\n"
      ]
     },
     "metadata": {},
     "output_type": "display_data"
    },
    {
     "name": "stdout",
     "output_type": "stream",
     "text": [
      "Model Input Shape: (None, 1, 129, 247)\n",
      "Model Output Shape: (None, 3)\n"
     ]
    }
   ],
   "execution_count": 38
  },
  {
   "metadata": {},
   "cell_type": "markdown",
   "source": "### Compilation:",
   "id": "7849a6fcc9afdde1"
  },
  {
   "metadata": {
    "ExecuteTime": {
     "end_time": "2025-03-04T18:29:02.088252Z",
     "start_time": "2025-03-04T18:29:02.069959Z"
    }
   },
   "cell_type": "code",
   "source": [
    "model.compile(optimizer=tf.keras.optimizers.Adam(learning_rate=1e-3),\n",
    "              loss=tf.keras.losses.SparseCategoricalCrossentropy(from_logits=False),\n",
    "              metrics=['accuracy'])\n"
   ],
   "id": "feb7516319e43817",
   "outputs": [],
   "execution_count": 39
  },
  {
   "metadata": {},
   "cell_type": "code",
   "source": [
    "history = model.fit(TRAIN_DATASET_BATCH, validation_data=VALIDATION_DATASET_BATCH, epochs=30,\n",
    "                    callbacks=[early_stopping, lr_callback])\n"
   ],
   "id": "8bbb2ac38cb5a71c",
   "outputs": [
    {
     "name": "stdout",
     "output_type": "stream",
     "text": [
      "\u001B[1m113/113\u001B[0m \u001B[32m━━━━━━━━━━━━━━━━━━━━\u001B[0m\u001B[37m\u001B[0m \u001B[1m28s\u001B[0m 242ms/step - accuracy: 0.8044 - loss: 0.5781 - val_accuracy: 0.8008 - val_loss: 0.6389 - learning_rate: 0.0010\n",
      "Epoch 9/30\n",
      "\u001B[1m113/113\u001B[0m \u001B[32m━━━━━━━━━━━━━━━━━━━━\u001B[0m\u001B[37m\u001B[0m \u001B[1m27s\u001B[0m 230ms/step - accuracy: 0.8300 - loss: 0.4958 - val_accuracy: 0.8167 - val_loss: 0.6247 - learning_rate: 0.0010\n",
      "Epoch 10/30\n",
      "\u001B[1m113/113\u001B[0m \u001B[32m━━━━━━━━━━━━━━━━━━━━\u001B[0m\u001B[37m\u001B[0m \u001B[1m28s\u001B[0m 237ms/step - accuracy: 0.8366 - loss: 0.4759 - val_accuracy: 0.8458 - val_loss: 0.5295 - learning_rate: 0.0010\n",
      "Epoch 11/30\n",
      "\u001B[1m113/113\u001B[0m \u001B[32m━━━━━━━━━━━━━━━━━━━━\u001B[0m\u001B[37m\u001B[0m \u001B[1m28s\u001B[0m 238ms/step - accuracy: 0.8644 - loss: 0.4115 - val_accuracy: 0.8383 - val_loss: 0.6203 - learning_rate: 0.0010\n",
      "Epoch 12/30\n",
      "\u001B[1m113/113\u001B[0m \u001B[32m━━━━━━━━━━━━━━━━━━━━\u001B[0m\u001B[37m\u001B[0m \u001B[1m29s\u001B[0m 245ms/step - accuracy: 0.8788 - loss: 0.3767 - val_accuracy: 0.7867 - val_loss: 0.8638 - learning_rate: 0.0010\n",
      "Epoch 13/30\n",
      "\u001B[1m113/113\u001B[0m \u001B[32m━━━━━━━━━━━━━━━━━━━━\u001B[0m\u001B[37m\u001B[0m \u001B[1m29s\u001B[0m 245ms/step - accuracy: 0.8768 - loss: 0.3869 - val_accuracy: 0.8492 - val_loss: 0.6018 - learning_rate: 0.0010\n",
      "Epoch 14/30\n",
      "\u001B[1m113/113\u001B[0m \u001B[32m━━━━━━━━━━━━━━━━━━━━\u001B[0m\u001B[37m\u001B[0m \u001B[1m29s\u001B[0m 248ms/step - accuracy: 0.9055 - loss: 0.3026 - val_accuracy: 0.8558 - val_loss: 0.5706 - learning_rate: 0.0010\n",
      "Epoch 15/30\n",
      "\u001B[1m113/113\u001B[0m \u001B[32m━━━━━━━━━━━━━━━━━━━━\u001B[0m\u001B[37m\u001B[0m \u001B[1m30s\u001B[0m 253ms/step - accuracy: 0.8896 - loss: 0.3505 - val_accuracy: 0.8808 - val_loss: 0.5113 - learning_rate: 0.0010\n",
      "Epoch 16/30\n",
      "\u001B[1m113/113\u001B[0m \u001B[32m━━━━━━━━━━━━━━━━━━━━\u001B[0m\u001B[37m\u001B[0m \u001B[1m29s\u001B[0m 249ms/step - accuracy: 0.9063 - loss: 0.2830 - val_accuracy: 0.8792 - val_loss: 0.4956 - learning_rate: 0.0010\n",
      "Epoch 17/30\n",
      "\u001B[1m113/113\u001B[0m \u001B[32m━━━━━━━━━━━━━━━━━━━━\u001B[0m\u001B[37m\u001B[0m \u001B[1m29s\u001B[0m 246ms/step - accuracy: 0.9172 - loss: 0.2493 - val_accuracy: 0.8592 - val_loss: 0.5598 - learning_rate: 0.0010\n",
      "Epoch 18/30\n",
      "\u001B[1m113/113\u001B[0m \u001B[32m━━━━━━━━━━━━━━━━━━━━\u001B[0m\u001B[37m\u001B[0m \u001B[1m30s\u001B[0m 260ms/step - accuracy: 0.9046 - loss: 0.2779 - val_accuracy: 0.9008 - val_loss: 0.4608 - learning_rate: 0.0010\n",
      "Epoch 19/30\n",
      "\u001B[1m113/113\u001B[0m \u001B[32m━━━━━━━━━━━━━━━━━━━━\u001B[0m\u001B[37m\u001B[0m \u001B[1m29s\u001B[0m 250ms/step - accuracy: 0.9348 - loss: 0.2023 - val_accuracy: 0.8800 - val_loss: 0.4679 - learning_rate: 0.0010\n",
      "Epoch 20/30\n",
      "\u001B[1m113/113\u001B[0m \u001B[32m━━━━━━━━━━━━━━━━━━━━\u001B[0m\u001B[37m\u001B[0m \u001B[1m29s\u001B[0m 247ms/step - accuracy: 0.9309 - loss: 0.2071 - val_accuracy: 0.9033 - val_loss: 0.3730 - learning_rate: 0.0010\n",
      "Epoch 21/30\n",
      "\u001B[1m113/113\u001B[0m \u001B[32m━━━━━━━━━━━━━━━━━━━━\u001B[0m\u001B[37m\u001B[0m \u001B[1m29s\u001B[0m 251ms/step - accuracy: 0.9381 - loss: 0.1799 - val_accuracy: 0.8867 - val_loss: 0.5765 - learning_rate: 0.0010\n",
      "Epoch 22/30\n",
      "\u001B[1m113/113\u001B[0m \u001B[32m━━━━━━━━━━━━━━━━━━━━\u001B[0m\u001B[37m\u001B[0m \u001B[1m29s\u001B[0m 247ms/step - accuracy: 0.9438 - loss: 0.1733 - val_accuracy: 0.9067 - val_loss: 0.4806 - learning_rate: 0.0010\n",
      "Epoch 23/30\n",
      "\u001B[1m113/113\u001B[0m \u001B[32m━━━━━━━━━━━━━━━━━━━━\u001B[0m\u001B[37m\u001B[0m \u001B[1m29s\u001B[0m 249ms/step - accuracy: 0.9393 - loss: 0.1842 - val_accuracy: 0.8858 - val_loss: 0.7354 - learning_rate: 0.0010\n",
      "Epoch 24/30\n",
      "\u001B[1m113/113\u001B[0m \u001B[32m━━━━━━━━━━━━━━━━━━━━\u001B[0m\u001B[37m\u001B[0m \u001B[1m29s\u001B[0m 245ms/step - accuracy: 0.9503 - loss: 0.1732 - val_accuracy: 0.8608 - val_loss: 0.7026 - learning_rate: 0.0010\n",
      "Epoch 25/30\n",
      "\u001B[1m113/113\u001B[0m \u001B[32m━━━━━━━━━━━━━━━━━━━━\u001B[0m\u001B[37m\u001B[0m \u001B[1m28s\u001B[0m 243ms/step - accuracy: 0.9436 - loss: 0.1842 - val_accuracy: 0.8825 - val_loss: 0.5829 - learning_rate: 0.0010\n",
      "Epoch 26/30\n",
      "\u001B[1m113/113\u001B[0m \u001B[32m━━━━━━━━━━━━━━━━━━━━\u001B[0m\u001B[37m\u001B[0m \u001B[1m28s\u001B[0m 243ms/step - accuracy: 0.9352 - loss: 0.1839 - val_accuracy: 0.9117 - val_loss: 0.4224 - learning_rate: 5.0000e-04\n",
      "Epoch 27/30\n",
      "\u001B[1m113/113\u001B[0m \u001B[32m━━━━━━━━━━━━━━━━━━━━\u001B[0m\u001B[37m\u001B[0m \u001B[1m28s\u001B[0m 244ms/step - accuracy: 0.9581 - loss: 0.1406 - val_accuracy: 0.9167 - val_loss: 0.4515 - learning_rate: 5.0000e-04\n",
      "Epoch 28/30\n",
      "\u001B[1m113/113\u001B[0m \u001B[32m━━━━━━━━━━━━━━━━━━━━\u001B[0m\u001B[37m\u001B[0m \u001B[1m29s\u001B[0m 247ms/step - accuracy: 0.9587 - loss: 0.1335 - val_accuracy: 0.9233 - val_loss: 0.4001 - learning_rate: 5.0000e-04\n",
      "Epoch 29/30\n",
      "\u001B[1m113/113\u001B[0m \u001B[32m━━━━━━━━━━━━━━━━━━━━\u001B[0m\u001B[37m\u001B[0m \u001B[1m28s\u001B[0m 245ms/step - accuracy: 0.9644 - loss: 0.1081 - val_accuracy: 0.9217 - val_loss: 0.4419 - learning_rate: 5.0000e-04\n",
      "Epoch 30/30\n",
      "\u001B[1m113/113\u001B[0m \u001B[32m━━━━━━━━━━━━━━━━━━━━\u001B[0m\u001B[37m\u001B[0m \u001B[1m29s\u001B[0m 254ms/step - accuracy: 0.9670 - loss: 0.0981 - val_accuracy: 0.9217 - val_loss: 0.5295 - learning_rate: 5.0000e-04\n"
     ]
    }
   ],
   "execution_count": 40
  },
  {
   "metadata": {},
   "cell_type": "markdown",
   "source": "Result: accuracy: 0.9670 - loss: 0.0981 - val_accuracy: 0.9217 - val_loss: 0.5295 - learning_rate: 5.0000e-04\n",
   "id": "a7b8b88ee88e1cb4"
  },
  {
   "metadata": {},
   "cell_type": "markdown",
   "source": "### Manuel Testing Preparation",
   "id": "445002ba2ee29478"
  },
  {
   "metadata": {
    "ExecuteTime": {
     "end_time": "2025-03-04T18:44:15.355266Z",
     "start_time": "2025-03-04T18:44:09.426351Z"
    }
   },
   "cell_type": "code",
   "source": [
    "test_spec_arr = []\n",
    "test_label_arr = []\n",
    "\n",
    "for spectrogram_val, label in TEST_DATASET.as_numpy_iterator():\n",
    "    test_spec_arr.append(spectrogram_val)\n",
    "    test_label_arr.append(label)\n",
    "\n",
    "test_spec_arr = np.array(test_spec_arr)\n",
    "test_label_arr = np.array(test_label_arr)\n"
   ],
   "id": "2aced0e9b78be830",
   "outputs": [],
   "execution_count": 41
  },
  {
   "metadata": {},
   "cell_type": "markdown",
   "source": "### Manuel Testing:",
   "id": "38265e8152a5f593"
  },
  {
   "metadata": {
    "ExecuteTime": {
     "end_time": "2025-03-04T18:45:00.567611Z",
     "start_time": "2025-03-04T18:44:58.212345Z"
    }
   },
   "cell_type": "code",
   "source": [
    "\n",
    "ith_sample: int = 190\n",
    "count_of_samples: int = len(test_spec_arr)\n",
    "\n",
    "model_prediction = model.predict(test_spec_arr)[ith_sample]\n",
    "actual_label = test_label_arr[ith_sample]\n",
    "probabilities = softmax(model_prediction)\n",
    "\n",
    "formatted_probabilities = [f\"{prob:.5f}\" for prob in probabilities]\n",
    "\n",
    "print(\"Categories:\", CATEGORIES)\n",
    "print(f\"Model Prediction {ith_sample + 1}'th of {count_of_samples}\", model_prediction)\n",
    "print(\"Probabilities:\", formatted_probabilities)\n",
    "print(\"Predicted Label:\", CATEGORIES[np.argmax(probabilities)])\n",
    "print(\"Actual Label:\", CATEGORIES[actual_label])\n"
   ],
   "id": "a43670e9a500e999",
   "outputs": [
    {
     "name": "stdout",
     "output_type": "stream",
     "text": [
      "\u001B[1m38/38\u001B[0m \u001B[32m━━━━━━━━━━━━━━━━━━━━\u001B[0m\u001B[37m\u001B[0m \u001B[1m2s\u001B[0m 57ms/step\n",
      "Categories: ['yes', 'no', 'unknown']\n",
      "Model Prediction 191'th of 1200 [1.5666656e-05 1.2146515e-06 9.9998319e-01]\n",
      "Probabilities: ['0.21195', '0.21194', '0.57611']\n",
      "Predicted Label: unknown\n",
      "Actual Label: unknown\n"
     ]
    }
   ],
   "execution_count": 46
  },
  {
   "metadata": {},
   "cell_type": "markdown",
   "source": "### Average Testing Results:",
   "id": "e06c4fc28ee68e51"
  },
  {
   "metadata": {
    "ExecuteTime": {
     "end_time": "2025-03-04T18:45:27.069976Z",
     "start_time": "2025-03-04T18:45:20.074761Z"
    }
   },
   "cell_type": "code",
   "source": [
    "test_spec_arr = []\n",
    "test_label_arr = []\n",
    "\n",
    "for spectrogram_val, label in TEST_DATASET.as_numpy_iterator():\n",
    "    test_spec_arr.append(spectrogram_val)\n",
    "    test_label_arr.append(label)\n",
    "\n",
    "test_spec_arr = np.array(test_spec_arr)\n",
    "test_label_arr = np.array(test_label_arr)\n",
    "\n",
    "model_predictions = model.predict(test_spec_arr)\n",
    "\n",
    "probabilities: ndarray = softmax(model_predictions, axis=1)\n",
    "\n",
    "predicted_labels: int = np.argmax(probabilities, axis=1)\n",
    "\n",
    "accuracy: float = accuracy_score(test_label_arr, predicted_labels)\n",
    "print(f\"Accuracy: {accuracy:.4f} ({accuracy * 100:.2f}%)\")\n",
    "\n",
    "conf_matrix: ndarray = confusion_matrix(test_label_arr, predicted_labels)\n",
    "\n",
    "plt.figure(figsize=(6, 5))\n",
    "sns.heatmap(conf_matrix, annot=True, fmt=\"d\", cmap=\"Blues\", xticklabels=CATEGORIES, yticklabels=CATEGORIES)\n",
    "plt.xlabel(\"Predicted Label\")\n",
    "plt.ylabel(\"Actual Label\")\n",
    "plt.title(\"Confusion Matrix\")\n",
    "plt.show()\n",
    "\n",
    "print(\"\\nClassification Report:\\n\", classification_report(test_label_arr, predicted_labels, target_names=CATEGORIES))\n",
    "\n",
    "test_label_bin = label_binarize(test_label_arr, classes=[0, 1, 2])\n",
    "fpr, tpr, roc_auc = {}, {}, {}\n",
    "\n",
    "precision, recall, pr_auc = {}, {}, {}\n",
    "\n",
    "plt.figure(figsize=(12, 5))\n",
    "\n",
    "plt.subplot(1, 2, 1)\n",
    "for i, category in enumerate(CATEGORIES):\n",
    "    fpr[i], tpr[i], _ = roc_curve(test_label_bin[:, i], probabilities[:, i])\n",
    "    roc_auc[i] = auc(fpr[i], tpr[i])\n",
    "    plt.plot(fpr[i], tpr[i], label=f\"{category} (AUC = {roc_auc[i]:.2f})\")\n",
    "\n",
    "plt.plot([0, 1], [0, 1], \"k--\")\n",
    "plt.xlabel(\"False Positive Rate\")\n",
    "plt.ylabel(\"True Positive Rate\")\n",
    "plt.title(\"ROC Curve\")\n",
    "plt.legend()\n",
    "\n",
    "plt.subplot(1, 2, 2)\n",
    "for i, category in enumerate(CATEGORIES):\n",
    "    precision[i], recall[i], _ = precision_recall_curve(test_label_bin[:, i], probabilities[:, i])\n",
    "    pr_auc[i] = auc(recall[i], precision[i])\n",
    "    plt.plot(recall[i], precision[i], label=f\"{category} (AUC = {pr_auc[i]:.2f})\")\n",
    "\n",
    "plt.xlabel(\"Recall\")\n",
    "plt.ylabel(\"Precision\")\n",
    "plt.title(\"Precision-Recall Curve\")\n",
    "plt.legend()\n",
    "\n",
    "plt.show()\n"
   ],
   "id": "a4c10df3b0270b2a",
   "outputs": [
    {
     "name": "stdout",
     "output_type": "stream",
     "text": [
      "\u001B[1m38/38\u001B[0m \u001B[32m━━━━━━━━━━━━━━━━━━━━\u001B[0m\u001B[37m\u001B[0m \u001B[1m2s\u001B[0m 56ms/step\n",
      "Accuracy: 0.9067 (90.67%)\n"
     ]
    },
    {
     "data": {
      "text/plain": [
       "<Figure size 600x500 with 2 Axes>"
      ],
      "image/png": "[encoded data removed]"
     },
     "metadata": {},
     "output_type": "display_data"
    },
    {
     "name": "stdout",
     "output_type": "stream",
     "text": [
      "\n",
      "Classification Report:\n",
      "               precision    recall  f1-score   support\n",
      "\n",
      "         yes       0.98      0.83      0.90       400\n",
      "          no       0.93      0.92      0.93       400\n",
      "     unknown       0.83      0.97      0.90       400\n",
      "\n",
      "    accuracy                           0.91      1200\n",
      "   macro avg       0.91      0.91      0.91      1200\n",
      "weighted avg       0.91      0.91      0.91      1200\n",
      "\n"
     ]
    },
    {
     "data": {
      "text/plain": [
       "<Figure size 1200x500 with 2 Axes>"
      ],
      "image/png": "[encoded data removed]"
     },
     "metadata": {},
     "output_type": "display_data"
    }
   ],
   "execution_count": 47
  },
  {
   "metadata": {},
   "cell_type": "markdown",
   "source": "### Model Saving:",
   "id": "9b3c9570da4777ef"
  },
  {
   "metadata": {
    "ExecuteTime": {
     "end_time": "2025-03-04T18:45:56.320832Z",
     "start_time": "2025-03-04T18:45:56.138911Z"
    }
   },
   "cell_type": "code",
   "source": "model.save(\"models/model_0.keras\");",
   "id": "a2de40acad2cccf9",
   "outputs": [],
   "execution_count": 48
  },
  {
   "metadata": {
    "ExecuteTime": {
     "end_time": "2025-03-04T19:16:12.120572Z",
     "start_time": "2025-03-04T19:16:12.105717Z"
    }
   },
   "cell_type": "code",
   "source": [
    "import json\n",
    "\n",
    "mean = norm_layer.mean.numpy().tolist()\n",
    "stddev = (norm_layer.variance.numpy() ** 0.5).tolist()\n",
    "\n",
    "with open(\"normalization_values.json\", \"w\") as f:\n",
    "    json.dump({\"mean\": mean, \"stddev\": stddev}, f)\n"
   ],
   "id": "ddf58904078dbe6b",
   "outputs": [],
   "execution_count": 53
  }
 ],
 "metadata": {
  "kernelspec": {
   "display_name": "Python 3",
   "language": "python",
   "name": "python3"
  },
  "language_info": {
   "codemirror_mode": {
    "name": "ipython",
    "version": 2
   },
   "file_extension": ".py",
   "mimetype": "text/x-python",
   "name": "python",
   "nbconvert_exporter": "python",
   "pygments_lexer": "ipython2",
   "version": "2.7.6"
  }
 },
 "nbformat": 4,
 "nbformat_minor": 5
}
