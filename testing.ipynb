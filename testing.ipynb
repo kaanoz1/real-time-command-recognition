{
 "cells": [
  {
   "cell_type": "code",
   "id": "initial_id",
   "metadata": {
    "collapsed": true,
    "ExecuteTime": {
     "end_time": "2025-03-05T05:29:57.555659Z",
     "start_time": "2025-03-05T05:29:43.672025Z"
    }
   },
   "source": [
    "import numpy as np\n",
    "import tensorflow as tf\n",
    "import sounddevice as sd\n",
    "from scipy.special import softmax\n",
    "import json\n",
    "\n",
    "from numpy import ndarray\n",
    "from typing import List"
   ],
   "outputs": [],
   "execution_count": 2
  },
  {
   "metadata": {
    "ExecuteTime": {
     "end_time": "2025-03-05T05:38:16.177392Z",
     "start_time": "2025-03-05T05:38:16.158829Z"
    }
   },
   "cell_type": "code",
   "source": [
    "duration: int = 1;  # In seconds. Duration of the recording.\n",
    "fs: int = 16000;  # Frequency of recording, 22050 samples per seconds. Continues -> Discrete.\n",
    "frames: int = duration * fs;  # Frame count.\n",
    "\n",
    "categories: List[str] = [\"yes\", \"no\", \"unknown\"]\n",
    "\n",
    "with open(\"normalization_values.json\", \"r\") as f:\n",
    "    norm_data = json.load(f)\n",
    "\n",
    "mean = np.array(norm_data[\"mean\"], dtype=np.float32)\n",
    "stddev = np.array(norm_data[\"stddev\"], dtype=np.float32)\n",
    "\n",
    "\n"
   ],
   "id": "5ced26b9ac7f4ccd",
   "outputs": [],
   "execution_count": 11
  },
  {
   "metadata": {
    "ExecuteTime": {
     "end_time": "2025-03-05T05:38:19.109632Z",
     "start_time": "2025-03-05T05:38:19.104258Z"
    }
   },
   "cell_type": "code",
   "source": [
    "def get_waveform_file(file_name: str) -> ndarray:\n",
    "    file_path: str = f\"./data/{file_name}\"\n",
    "    file_tensor = tf.io.read_file(file_path)\n",
    "    audio_tensor, _ = tf.audio.decode_wav(file_tensor)\n",
    "    audio_tensor = tf.squeeze(audio_tensor, axis=-1)\n",
    "    return audio_tensor"
   ],
   "id": "b934dbde19750a10",
   "outputs": [],
   "execution_count": 12
  },
  {
   "metadata": {
    "ExecuteTime": {
     "end_time": "2025-03-05T05:38:26.034052Z",
     "start_time": "2025-03-05T05:38:24.561350Z"
    }
   },
   "cell_type": "code",
   "source": [
    "print(\"Speak Now\")\n",
    "recording: ndarray = sd.rec(frames=frames, samplerate=fs, channels=1)\n",
    "sd.wait(ignore_errors=False)\n",
    "\n",
    "audio = np.squeeze(recording).astype(np.float32)\n",
    "spectrogram = tf.signal.stft(audio, frame_length=256, frame_step=64, fft_length=256)\n",
    "\n",
    "spectrogram = tf.abs(spectrogram)\n",
    "spectrogram = tf.reshape(spectrogram, (1, 1, 129, 247))\n",
    "\n",
    "spectrogram = (spectrogram - mean) / stddev\n",
    "\n",
    "tf_model = tf.lite.Interpreter(model_path=\"models/model_0.tflite\")\n",
    "input_details = tf_model.get_input_details()\n",
    "output_details = tf_model.get_output_details()\n",
    "\n",
    "print(\"Spectrogram Shape: \", spectrogram.shape)\n",
    "print(\"Input Shape: \", input_details[0][\"shape\"])"
   ],
   "id": "dd2b77e0dbe766e0",
   "outputs": [
    {
     "name": "stdout",
     "output_type": "stream",
     "text": [
      "Speak Now\n",
      "Spectrogram Shape:  (1, 1, 129, 247)\n",
      "Input Shape:  [  1   1 129 247]\n"
     ]
    }
   ],
   "execution_count": 14
  },
  {
   "metadata": {
    "ExecuteTime": {
     "end_time": "2025-03-05T05:38:28.248634Z",
     "start_time": "2025-03-05T05:38:28.195670Z"
    }
   },
   "cell_type": "code",
   "source": [
    "tf_model.allocate_tensors()\n",
    "tf_model.set_tensor(input_details[0][\"index\"], spectrogram)\n",
    "tf_model.invoke()\n",
    "\n",
    "tf_model_prediction_coefficients = tf_model.get_tensor(output_details[0][\"index\"])\n",
    "\n",
    "tf_model_prediction = categories[tf.argmax(tf_model_prediction_coefficients, axis=1).numpy()[0]]\n",
    "\n",
    "formatted_logits = [f\"{logit:.4f}\" for logit in tf_model_prediction_coefficients[0]]\n",
    "\n",
    "print(\"Categories: \", categories)\n",
    "print(\"Logits: \", formatted_logits)\n",
    "print(\"Model Prediction: \", tf_model_prediction)\n",
    "\n",
    "print(\"Finished!\")\n"
   ],
   "id": "a698d54dd88681ff",
   "outputs": [
    {
     "name": "stdout",
     "output_type": "stream",
     "text": [
      "Categories:  ['yes', 'no', 'unknown']\n",
      "Logits:  ['0.0001', '0.9999', '0.0000']\n",
      "Model Prediction:  no\n",
      "Finished!\n"
     ]
    }
   ],
   "execution_count": 15
  }
 ],
 "metadata": {
  "kernelspec": {
   "display_name": "Python 3",
   "language": "python",
   "name": "python3"
  },
  "language_info": {
   "codemirror_mode": {
    "name": "ipython",
    "version": 2
   },
   "file_extension": ".py",
   "mimetype": "text/x-python",
   "name": "python",
   "nbconvert_exporter": "python",
   "pygments_lexer": "ipython2",
   "version": "2.7.6"
  }
 },
 "nbformat": 4,
 "nbformat_minor": 5
}
