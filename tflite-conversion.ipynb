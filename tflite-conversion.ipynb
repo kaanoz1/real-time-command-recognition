{
 "cells": [
  {
   "cell_type": "code",
   "id": "initial_id",
   "metadata": {
    "collapsed": true,
    "ExecuteTime": {
     "end_time": "2025-03-04T18:55:21.157149Z",
     "start_time": "2025-03-04T18:55:14.161680Z"
    }
   },
   "source": [
    "import tensorflow as tf;\n",
    "import os;"
   ],
   "outputs": [],
   "execution_count": 1
  },
  {
   "metadata": {
    "ExecuteTime": {
     "end_time": "2025-03-04T18:55:23.424968Z",
     "start_time": "2025-03-04T18:55:21.167164Z"
    }
   },
   "cell_type": "code",
   "source": [
    "model = tf.keras.models.load_model(\"./models/model_0.keras\");\n",
    "\n",
    "converter = tf.lite.TFLiteConverter.from_keras_model(model)\n",
    "\n",
    "tflite_model = converter.convert()\n",
    "\n",
    "with open(\"models/model_0.tflite\", \"wb\") as f:\n",
    "    f.write(tflite_model)"
   ],
   "id": "3ae490ef9edb5738",
   "outputs": [
    {
     "name": "stdout",
     "output_type": "stream",
     "text": [
      "INFO:tensorflow:Assets written to: C:\\Users\\kaano\\AppData\\Local\\Temp\\tmpdy_o3ntf\\assets\n"
     ]
    },
    {
     "name": "stderr",
     "output_type": "stream",
     "text": [
      "INFO:tensorflow:Assets written to: C:\\Users\\kaano\\AppData\\Local\\Temp\\tmpdy_o3ntf\\assets\n"
     ]
    },
    {
     "name": "stdout",
     "output_type": "stream",
     "text": [
      "Saved artifact at 'C:\\Users\\kaano\\AppData\\Local\\Temp\\tmpdy_o3ntf'. The following endpoints are available:\n",
      "\n",
      "* Endpoint 'serve'\n",
      "  args_0 (POSITIONAL_ONLY): TensorSpec(shape=(None, 1, 129, 247), dtype=tf.float32, name='input_layer_4')\n",
      "Output Type:\n",
      "  TensorSpec(shape=(None, 3), dtype=tf.float32, name=None)\n",
      "Captures:\n",
      "  2686371287824: TensorSpec(shape=(1, 1, 1, 247), dtype=tf.float32, name=None)\n",
      "  2686371293392: TensorSpec(shape=(1, 1, 1, 247), dtype=tf.float32, name=None)\n",
      "  2686350696016: TensorSpec(shape=(), dtype=tf.resource, name=None)\n",
      "  2686350698512: TensorSpec(shape=(), dtype=tf.resource, name=None)\n",
      "  2686350699088: TensorSpec(shape=(), dtype=tf.resource, name=None)\n",
      "  2686350695056: TensorSpec(shape=(), dtype=tf.resource, name=None)\n",
      "  2686350696976: TensorSpec(shape=(), dtype=tf.resource, name=None)\n",
      "  2686350696208: TensorSpec(shape=(), dtype=tf.resource, name=None)\n",
      "  2686350700432: TensorSpec(shape=(), dtype=tf.resource, name=None)\n",
      "  2686350701968: TensorSpec(shape=(), dtype=tf.resource, name=None)\n",
      "  2686350702160: TensorSpec(shape=(), dtype=tf.resource, name=None)\n",
      "  2686350701392: TensorSpec(shape=(), dtype=tf.resource, name=None)\n",
      "  2686350700624: TensorSpec(shape=(), dtype=tf.resource, name=None)\n",
      "  2686350701776: TensorSpec(shape=(), dtype=tf.resource, name=None)\n",
      "  2686350703312: TensorSpec(shape=(), dtype=tf.resource, name=None)\n",
      "  2686350704272: TensorSpec(shape=(), dtype=tf.resource, name=None)\n",
      "  2686370628624: TensorSpec(shape=(), dtype=tf.resource, name=None)\n",
      "  2686370627664: TensorSpec(shape=(), dtype=tf.resource, name=None)\n",
      "  2686350704464: TensorSpec(shape=(), dtype=tf.resource, name=None)\n",
      "  2686370627856: TensorSpec(shape=(), dtype=tf.resource, name=None)\n",
      "  2686370628048: TensorSpec(shape=(), dtype=tf.resource, name=None)\n",
      "  2686370630928: TensorSpec(shape=(), dtype=tf.resource, name=None)\n",
      "  2686370629008: TensorSpec(shape=(), dtype=tf.resource, name=None)\n",
      "  2686370631888: TensorSpec(shape=(), dtype=tf.resource, name=None)\n",
      "  2686370630352: TensorSpec(shape=(), dtype=tf.resource, name=None)\n",
      "  2686370632848: TensorSpec(shape=(), dtype=tf.resource, name=None)\n",
      "  2686370634576: TensorSpec(shape=(), dtype=tf.resource, name=None)\n",
      "  2686370636112: TensorSpec(shape=(), dtype=tf.resource, name=None)\n"
     ]
    }
   ],
   "execution_count": 2
  },
  {
   "metadata": {},
   "cell_type": "markdown",
   "source": "Comparing Storage Sizes:",
   "id": "896cd4ce00ad45a4"
  },
  {
   "metadata": {
    "ExecuteTime": {
     "end_time": "2025-03-04T18:55:42.509454Z",
     "start_time": "2025-03-04T18:55:42.500487Z"
    }
   },
   "cell_type": "code",
   "source": [
    "model_path = \"./models/model_0.keras\"\n",
    "tflite_model_path = \"./models/model_0.tflite\"\n",
    "\n",
    "model_size = os.path.getsize(model_path)\n",
    "tflite_model_size = os.path.getsize(tflite_model_path)\n",
    "\n",
    "def convert_bytes(num: float):\n",
    "    for x in ['bytes', 'KB', 'MB', 'GB', 'TB']:\n",
    "        if num < 1024.0:\n",
    "            return \"%3.1f %s\" % (num, x)\n",
    "        num /= 1024.0\n",
    "\n",
    "print(\"Model size: %s\" % convert_bytes(model_size))\n",
    "print(\"TFLite model size: %s\" % convert_bytes(tflite_model_size))"
   ],
   "id": "e705b666e8ed6f7b",
   "outputs": [
    {
     "name": "stdout",
     "output_type": "stream",
     "text": [
      "Model size: 4.6 MB\n",
      "TFLite model size: 1.5 MB\n"
     ]
    }
   ],
   "execution_count": 3
  }
 ],
 "metadata": {
  "kernelspec": {
   "display_name": "Python 3",
   "language": "python",
   "name": "python3"
  },
  "language_info": {
   "codemirror_mode": {
    "name": "ipython",
    "version": 2
   },
   "file_extension": ".py",
   "mimetype": "text/x-python",
   "name": "python",
   "nbconvert_exporter": "python",
   "pygments_lexer": "ipython2",
   "version": "2.7.6"
  }
 },
 "nbformat": 4,
 "nbformat_minor": 5
}
