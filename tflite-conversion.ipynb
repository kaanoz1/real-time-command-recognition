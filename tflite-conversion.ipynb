{
 "cells": [
  {
   "cell_type": "code",
   "id": "initial_id",
   "metadata": {
    "collapsed": true,
    "ExecuteTime": {
     "end_time": "2025-03-04T19:18:31.501380Z",
     "start_time": "2025-03-04T19:18:31.493552Z"
    }
   },
   "source": [
    "import tensorflow as tf;\n",
    "import os;"
   ],
   "outputs": [],
   "execution_count": 10
  },
  {
   "metadata": {
    "ExecuteTime": {
     "end_time": "2025-03-04T19:18:34.069598Z",
     "start_time": "2025-03-04T19:18:32.519627Z"
    }
   },
   "cell_type": "code",
   "source": [
    "model = tf.keras.models.load_model(\"./models/model_0.keras\");\n",
    "\n",
    "converter = tf.lite.TFLiteConverter.from_keras_model(model)\n",
    "\n",
    "tflite_model = converter.convert()\n",
    "\n",
    "with open(\"models/model_0.tflite\", \"wb\") as f:\n",
    "    f.write(tflite_model)"
   ],
   "id": "3ae490ef9edb5738",
   "outputs": [
    {
     "name": "stdout",
     "output_type": "stream",
     "text": [
      "INFO:tensorflow:Assets written to: C:\\Users\\kaano\\AppData\\Local\\Temp\\tmpytnzd5cw\\assets\n"
     ]
    },
    {
     "name": "stderr",
     "output_type": "stream",
     "text": [
      "INFO:tensorflow:Assets written to: C:\\Users\\kaano\\AppData\\Local\\Temp\\tmpytnzd5cw\\assets\n"
     ]
    },
    {
     "name": "stdout",
     "output_type": "stream",
     "text": [
      "Saved artifact at 'C:\\Users\\kaano\\AppData\\Local\\Temp\\tmpytnzd5cw'. The following endpoints are available:\n",
      "\n",
      "* Endpoint 'serve'\n",
      "  args_0 (POSITIONAL_ONLY): TensorSpec(shape=(None, 1, 129, 247), dtype=tf.float32, name='input_layer_4')\n",
      "Output Type:\n",
      "  TensorSpec(shape=(None, 3), dtype=tf.float32, name=None)\n",
      "Captures:\n",
      "  2686400513040: TensorSpec(shape=(1, 1, 1, 247), dtype=tf.float32, name=None)\n",
      "  2686400521680: TensorSpec(shape=(1, 1, 1, 247), dtype=tf.float32, name=None)\n",
      "  2686382370512: TensorSpec(shape=(), dtype=tf.resource, name=None)\n",
      "  2686382364752: TensorSpec(shape=(), dtype=tf.resource, name=None)\n",
      "  2686350699088: TensorSpec(shape=(), dtype=tf.resource, name=None)\n",
      "  2686350695056: TensorSpec(shape=(), dtype=tf.resource, name=None)\n",
      "  2686382368976: TensorSpec(shape=(), dtype=tf.resource, name=None)\n",
      "  2686382373968: TensorSpec(shape=(), dtype=tf.resource, name=None)\n",
      "  2686350699280: TensorSpec(shape=(), dtype=tf.resource, name=None)\n",
      "  2686350700048: TensorSpec(shape=(), dtype=tf.resource, name=None)\n",
      "  2686350701968: TensorSpec(shape=(), dtype=tf.resource, name=None)\n",
      "  2686350698704: TensorSpec(shape=(), dtype=tf.resource, name=None)\n",
      "  2686350697360: TensorSpec(shape=(), dtype=tf.resource, name=None)\n",
      "  2686350700432: TensorSpec(shape=(), dtype=tf.resource, name=None)\n",
      "  2686350700624: TensorSpec(shape=(), dtype=tf.resource, name=None)\n",
      "  2686350703312: TensorSpec(shape=(), dtype=tf.resource, name=None)\n",
      "  2686350702928: TensorSpec(shape=(), dtype=tf.resource, name=None)\n",
      "  2686350703504: TensorSpec(shape=(), dtype=tf.resource, name=None)\n",
      "  2686350701776: TensorSpec(shape=(), dtype=tf.resource, name=None)\n",
      "  2686350701008: TensorSpec(shape=(), dtype=tf.resource, name=None)\n",
      "  2686350695632: TensorSpec(shape=(), dtype=tf.resource, name=None)\n",
      "  2686350696400: TensorSpec(shape=(), dtype=tf.resource, name=None)\n",
      "  2686350704464: TensorSpec(shape=(), dtype=tf.resource, name=None)\n",
      "  2686350696784: TensorSpec(shape=(), dtype=tf.resource, name=None)\n",
      "  2686350697168: TensorSpec(shape=(), dtype=tf.resource, name=None)\n",
      "  2686350695824: TensorSpec(shape=(), dtype=tf.resource, name=None)\n",
      "  2686430745360: TensorSpec(shape=(), dtype=tf.resource, name=None)\n",
      "  2686430748240: TensorSpec(shape=(), dtype=tf.resource, name=None)\n"
     ]
    }
   ],
   "execution_count": 11
  },
  {
   "metadata": {},
   "cell_type": "markdown",
   "source": "Comparing Storage Sizes:",
   "id": "896cd4ce00ad45a4"
  },
  {
   "metadata": {
    "ExecuteTime": {
     "end_time": "2025-03-04T19:18:08.923551Z",
     "start_time": "2025-03-04T19:18:08.908078Z"
    }
   },
   "cell_type": "code",
   "source": [
    "model_path = \"./models/model_0.keras\"\n",
    "tflite_model_path = \"./models/model_0.tflite\"\n",
    "\n",
    "model_size = os.path.getsize(model_path)\n",
    "tflite_model_size = os.path.getsize(tflite_model_path)\n",
    "\n",
    "\n",
    "def convert_bytes(num: float):\n",
    "    for x in ['bytes', 'KB', 'MB', 'GB', 'TB']:\n",
    "        if num < 1024.0:\n",
    "            return \"%3.1f %s\" % (num, x)\n",
    "        num /= 1024.0\n",
    "\n",
    "\n",
    "print(\"Model size: %s\" % convert_bytes(model_size))\n",
    "print(\"TFLite model size: %s\" % convert_bytes(tflite_model_size))"
   ],
   "id": "e705b666e8ed6f7b",
   "outputs": [
    {
     "name": "stdout",
     "output_type": "stream",
     "text": [
      "Model size: 4.6 MB\n",
      "TFLite model size: 780.1 KB\n"
     ]
    }
   ],
   "execution_count": 9
  }
 ],
 "metadata": {
  "kernelspec": {
   "display_name": "Python 3",
   "language": "python",
   "name": "python3"
  },
  "language_info": {
   "codemirror_mode": {
    "name": "ipython",
    "version": 2
   },
   "file_extension": ".py",
   "mimetype": "text/x-python",
   "name": "python",
   "nbconvert_exporter": "python",
   "pygments_lexer": "ipython2",
   "version": "2.7.6"
  }
 },
 "nbformat": 4,
 "nbformat_minor": 5
}
